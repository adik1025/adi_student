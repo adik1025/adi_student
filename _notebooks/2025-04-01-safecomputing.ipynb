{
 "cells": [
  {
   "cell_type": "code",
   "execution_count": null,
   "metadata": {
    "vscode": {
     "languageId": "yaml"
    }
   },
   "outputs": [],
   "source": [
    "---\n",
    "layout: post\n",
    "title: Safe Computing\n",
    "description: Team Teach Lesson HW\n",
    "permalink: /safecomputing\n",
    "comments: false\n",
    "search_exclude: false\n",
    "---"
   ]
  },
  {
   "cell_type": "markdown",
   "metadata": {},
   "source": [
    "**Popcorn Hack #1**\n",
    "\n",
    "Fingerprint - because it is something that is unique to you and only you."
   ]
  },
  {
   "cell_type": "markdown",
   "metadata": {},
   "source": [
    "**Popcorn Hack #2**\n",
    "\n",
    "D & A - Because there are multiple steps to successfully authenticating. For D, you need to only have a username and for A a password and username is only required to sign in."
   ]
  },
  {
   "cell_type": "markdown",
   "metadata": {},
   "source": [
    "**Popcorn Hack #3**\n",
    "\n",
    "B - The same key is used both for encryption and decryption, so the answer is B. Some other answer choices are not examples of encryption."
   ]
  },
  {
   "cell_type": "markdown",
   "metadata": {},
   "source": [
    "**Popcorn Hack #4**\n",
    "\n",
    "A good password is a password that contains numbers, letters, decent length, and special characters."
   ]
  }
 ],
 "metadata": {
  "language_info": {
   "name": "python"
  }
 },
 "nbformat": 4,
 "nbformat_minor": 2
}
