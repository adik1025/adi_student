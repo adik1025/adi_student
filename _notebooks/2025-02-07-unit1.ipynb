{
 "cells": [
  {
   "cell_type": "raw",
   "metadata": {
    "vscode": {
     "languageId": "raw"
    }
   },
   "source": [
    "---\n",
    "layout: post\n",
    "title: BI 1 Individual Blog\n",
    "description: Reflection on BI 1\n",
    "permalink: /BI1/\n",
    "---"
   ]
  },
  {
   "cell_type": "raw",
   "metadata": {},
   "source": []
  },
  {
   "cell_type": "markdown",
   "metadata": {},
   "source": [
    "# Big Idea 1 Reflection"
   ]
  },
  {
   "cell_type": "markdown",
   "metadata": {
    "vscode": {
     "languageId": "raw"
    }
   },
   "source": [
    "## 1.1: Collaboration"
   ]
  },
  {
   "cell_type": "markdown",
   "metadata": {
    "vscode": {
     "languageId": "raw"
    }
   },
   "source": [
    "Big Idea 1.1 discusses ways that students can collaborate to simulate a work environment.\n",
    "Some ways that we can do this in CSP include using GitHub, repl.it, and even a shared drive. In order to get feedback, we need to communicate with others. \n",
    "For example, Facebook's working are has courtyards and areas that allow people's talents to combine to do something great.\n",
    "![Image](https://github.com/user-attachments/assets/9ecc532a-e450-40b2-ab4d-fa53c6e3df96)\n",
    "\n",
    "The answer to this question is B, because it reflects how all kinds of people can come together to make something cool. 😎\n",
    "\n",
    "Interesting African Proverb: If you wan't to go fast, go alone. If you want to go far, go together."
   ]
  },
  {
   "cell_type": "markdown",
   "metadata": {},
   "source": [
    "### Overview\n",
    "Big Idea 1 emphasizes the role of creativity in designing and developing computational artifacts. It encourages innovative thinking and problem-solving strategies.\n",
    "\n",
    "### Key Concepts:\n",
    "- **Collaboration**: Working with others can boost ideation and offer diverse perspectives.  \n",
    "- **Iteration**: Repeatedly refining work based on feedback fosters continuous improvement.  \n",
    "- **Communication**: Sharing insights, discussing challenges, and receiving critique enhance both individual and group outcomes.\n",
    "\n",
    "### Significance\n",
    "Creativity in computer science expands possibilities, transforming simple ideas into impactful solutions through experimentation, collaboration, and thoughtful iteration.\n"
   ]
  },
  {
   "cell_type": "markdown",
   "metadata": {},
   "source": [
    "**Reflection on Big Idea 1: Creative Development**  \n",
    "Big Idea 1 focuses on the innovative and collaborative nature of computing. Through open communication, brainstorming, and shared responsibilities, teams can leverage diverse strengths and perspectives. Iteration ensures that feedback leads to continuous refinement of ideas, ultimately producing more effective computational artifacts. These practices foster a culture of exploration, learning, and collective creativity."
   ]
  }
 ],
 "metadata": {
  "language_info": {
   "name": "python"
  }
 },
 "nbformat": 4,
 "nbformat_minor": 2
}
