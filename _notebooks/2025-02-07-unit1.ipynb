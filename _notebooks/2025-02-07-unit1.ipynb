{
 "cells": [
  {
   "cell_type": "raw",
   "metadata": {
    "vscode": {
     "languageId": "raw"
    }
   },
   "source": [
    "---\n",
    "layout: post\n",
    "title: BI 1 Individual Blog\n",
    "description: Reflection on BI 1\n",
    "permalink: /BI1/\n",
    "---"
   ]
  },
  {
   "cell_type": "raw",
   "metadata": {},
   "source": []
  },
  {
   "cell_type": "markdown",
   "metadata": {},
   "source": [
    "# Big Idea 1 Reflection"
   ]
  },
  {
   "cell_type": "markdown",
   "metadata": {
    "vscode": {
     "languageId": "raw"
    }
   },
   "source": [
    "## 1.1: Collaboration"
   ]
  },
  {
   "cell_type": "markdown",
   "metadata": {
    "vscode": {
     "languageId": "raw"
    }
   },
   "source": [
    "Big Idea 1.1 discusses ways that students can collaborate to simulate a work environment.\n",
    "Some ways that we can do this in CSP include using GitHub, repl.it, and even a shared drive. In order to get feedback, we need to communicate with others. \n",
    "For example, Facebook's working are has courtyards and areas that allow people's talents to combine to do something great.\n",
    "![Image](https://github.com/user-attachments/assets/9ecc532a-e450-40b2-ab4d-fa53c6e3df96)\n",
    "\n",
    "The answer to this question is B, because it reflects how all kinds of people can come together to make something cool. 😎\n",
    "\n",
    "Interesting African Proverb: If you wan't to go fast, go alone. If you want to go far, go together."
   ]
  },
  {
   "cell_type": "markdown",
   "metadata": {},
   "source": [
    "## 1.1: Program Function and Purpose"
   ]
  },
  {
   "cell_type": "markdown",
   "metadata": {},
   "source": [
    "Many computing innovations "
   ]
  }
 ],
 "metadata": {
  "language_info": {
   "name": "python"
  }
 },
 "nbformat": 4,
 "nbformat_minor": 2
}
