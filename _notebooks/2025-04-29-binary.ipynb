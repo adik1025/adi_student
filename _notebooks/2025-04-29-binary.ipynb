{
 "cells": [
  {
   "cell_type": "code",
   "execution_count": null,
   "id": "86074587",
   "metadata": {
    "vscode": {
     "languageId": "yaml"
    }
   },
   "outputs": [],
   "source": [
    "---\n",
    "layout: post\n",
    "title: Binary\n",
    "description: Team Teach Lesson HW\n",
    "permalink: /bin\n",
    "comments: false\n",
    "search_exclude: false\n",
    "---"
   ]
  },
  {
   "cell_type": "markdown",
   "id": "96235afd",
   "metadata": {},
   "source": [
    "| Purpose-driven system (built from gates) | Core gate(s) | Why it’s helpful / real-world impact |\n",
    "|---|---|---|\n",
    "| **Secure door lock** — opens only when *every* credential is valid (badge **AND** PIN,[ AND ]) | AND | Raises physical security; reduces unauthorized entry by demanding multiple independent proofs of identity. |\n",
    "| **Burglar alarm** — sounds if *any* sensor trips (window, motion, glass-break, **OR**) | OR | Improves safety by turning one of many possible intrusions into a single, timely alert. |\n",
    "| **Automatic night light** — lamp turns on when it’s dark **AND** someone is present (light sensor NOT + AND with PIR) | NOT + AND | Saves energy and extends bulb life while still providing illumination only when it’s actually useful. |\n",
    "| **Emergency-stop latch** — machine runs while enable-switch is 1 **AND** no fault is present (NOT fault **AND** run) | AND + NOT | Prevents equipment damage/injury by forcing the motor off the instant a fault line goes high. |\n",
    "| **Majority-vote controller** — critical system keeps working if ≥ 2 of 3 subsystems agree (3-input majority) | combinations of AND/OR | Provides fault-tolerance in aerospace/medical devices; a single faulty sensor can’t bring the system down. |\n",
    "| **Parity / XOR error-checker** — detects flipped bits on data links | XOR | Increases data reliability; corrupted packets are caught before they cause crashes or wrong results. |\n",
    "| **Adders, multiplexers & registers** (building blocks of CPUs) | AND, OR, XOR, NOT | Deliver the speed-and-power advantages of digital computing to everything from phones to pacemakers. |"
   ]
  },
  {
   "cell_type": "markdown",
   "id": "2eb84ff1",
   "metadata": {},
   "source": [
    "The circuit is true when:\n",
    "\n",
    "X AND Y are both 1\n",
    "  OR\n",
    "\n",
    "Z is 1 (regardless of X and Y).\n",
    "\n",
    "That’s literally the expression\n",
    "\n",
    "(\n",
    "𝑋\n",
    "∧\n",
    "𝑌\n",
    ")\n",
    "  \n",
    "∨\n",
    "  \n",
    "𝑍\n",
    "(X∧Y)∨Z\n",
    "Answer: A. (X AND Y) OR Z\n",
    "\n",
    "(The other options either evaluate the OR/AND in the wrong order or negate the wrong part.)\n",
    "\n"
   ]
  },
  {
   "cell_type": "code",
   "execution_count": 1,
   "id": "0f7aa7d2",
   "metadata": {},
   "outputs": [
    {
     "name": "stdout",
     "output_type": "stream",
     "text": [
      "1\n",
      "0\n",
      "0\n",
      "0\n"
     ]
    }
   ],
   "source": [
    "def secure_entry_system(keycard, pin, voice):\n",
    "    \"\"\"\n",
    "    Returns 1 (granted) only if *all three* credentials are present.\n",
    "    Each argument should be 0 or 1.\n",
    "    \"\"\"\n",
    "    def AND3(a, b, c):\n",
    "        return a & b & c  # 3-input AND logic using bitwise-AND\n",
    "    \n",
    "    return AND3(keycard, pin, voice)\n",
    "\n",
    "# --- Test cases ---\n",
    "print(secure_entry_system(1, 1, 1))  # ➜ 1  (Access granted)\n",
    "print(secure_entry_system(1, 0, 1))  # ➜ 0  (Denied: wrong PIN)\n",
    "print(secure_entry_system(0, 1, 1))  # ➜ 0  (Denied: no keycard)\n",
    "print(secure_entry_system(1, 1, 0))  # ➜ 0  (Denied: voice mismatch)\n"
   ]
  }
 ],
 "metadata": {
  "kernelspec": {
   "display_name": "venv",
   "language": "python",
   "name": "python3"
  },
  "language_info": {
   "codemirror_mode": {
    "name": "ipython",
    "version": 3
   },
   "file_extension": ".py",
   "mimetype": "text/x-python",
   "name": "python",
   "nbconvert_exporter": "python",
   "pygments_lexer": "ipython3",
   "version": "3.12.3"
  }
 },
 "nbformat": 4,
 "nbformat_minor": 5
}
