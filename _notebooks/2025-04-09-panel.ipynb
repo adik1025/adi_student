{
 "cells": [
  {
   "cell_type": "code",
   "execution_count": null,
   "id": "85c70b59",
   "metadata": {
    "vscode": {
     "languageId": "yaml"
    }
   },
   "outputs": [],
   "source": [
    "---\n",
    "layout: post\n",
    "title: Cybersecurity Panel Notes\n",
    "permalink: /cyber\n",
    "comments: false\n",
    "search_exclude: false\n",
    "---"
   ]
  },
  {
   "cell_type": "markdown",
   "id": "7c2cb801",
   "metadata": {},
   "source": [
    "## Section 1\n",
    "\n",
    "Data is IMPORTANT, and must be handled properly and old data must be taken care of. \n",
    "\n",
    "Anecdote: one individual went on a work leave and was stealing company data in order to solve his financial issues. Advice is to stay curious and be wary of everything because it may be a cybersecurity threat.\n",
    "\n",
    "Mr. Tomasz is very good at ransomware, but adversary threats are a bigger threat. China and other major adversaries are a major concern for the cybersecurity industry. \n",
    "\n",
    "Mr. Nzeata says that in order to be more defensive, we need to be more educated about the field of cybersecurity and be aware of phishing in office settings. Many people are susceptible for phishing attacks despite efforts to educate cybersecurity.\n",
    "\n",
    "Mr. Nzeata mentions several zero-days that cause harm for many countries\n",
    "\n",
    "\"To know good you must now evil\": Knowing how to attack a system (ethical hacking) is super important because it allows everyone to truly test the security of a system.\n",
    "\n",
    "Legal concern: if you are responsible for an attack or potential attack, you can face some legal consequences.\n",
    "\n",
    "## Section 2\n",
    "\n",
    "If you are getting a job in cybersecurity, how can you get involved?\n",
    "\n",
    "Studying computer science is super important, and starting at a young age is important because you can get involved early + gain more experience.\n",
    "\n",
    "Anybody can go about learning about computers, its very doable for everyone, as long as you care about it enough.\n",
    "\n",
    "Many similarities between cybersecurity and working in the armed forces. It is an ever-changing field because of new zero-days and changing fields. \n",
    "\n",
    "Getting a foundation in IT is very important because it allows us to get a strong foundational background\n",
    "\n",
    "SOFT-SKILLS - be sociable, be a good leader, be likable. This is super important because it raises the ceiling of what you can do. \n",
    "\n",
    "Be curious, build your own network, get hired as an intern. Learn in real-world scenarios w/ hack-a-thons.\n",
    "\n",
    "Go out of your comfort zone to learn quickly, and adapt.\n",
    "\n",
    "If you see something, say something to law enforcement, even for cybersecurity issues.\n",
    "\n",
    "Cybersecurity is a great field, but the people are what make this field great and engaging.\n",
    "\n",
    "## Section 3\n",
    "\n",
    "The future of cyber and the job market in the future\n",
    "\n",
    "In the next 5-10 years, more specific specializations will start to exist. For example, more people specialized in AI or Healthcare IT. We need to educate the current IT workforce to have the current skill set compared to IT.\n",
    "\n",
    "AI is a classic example of specialization. AI is a big example of this.\n",
    "\n",
    "Lots of govt. jobs will be created to defend against the very strong adversaries in China, NK, and Iran. They are stronger than us and we need to get very good at this. The govt. also needs to support small businesses that have about only one cyber security specialist. \n",
    "\n",
    "AI creates more unknowns and question marks for the future of cyber security. \n",
    "\n",
    "A network is needed to be valuable in the job market. Having connections will help us learn and be successful.\n",
    "\n",
    "You are never \"done\" when you are working in cyber or CS. If you want to be the best, you need to constantly advance in your field of specialization.\n",
    "\n",
    "Cybersecurity is a team sport - you need to be able to collaborate effectively.\n",
    "\n",
    "tl;dr (Key Takeaways)\n",
    "\n",
    "- Data Security: Handle data responsibly; old data must be managed. Be vigilant about potential cybersecurity threats, including insider threats.\n",
    "- Threat Landscape: Ransomware is significant, but adversary threats (e.g., from China) are a bigger concern. Awareness of phishing and zero-days is critical.\n",
    "- Ethical Hacking: Understanding how to attack systems is vital for testing security. Legal consequences exist for mishandling cybersecurity responsibilities.\n",
    "- Career in Cybersecurity: Start early, build IT foundations, and develop soft skills (e.g., leadership, sociability). Gain real-world experience through internships and hackathons.\n",
    "- Future Trends: Specializations (e.g., AI, Healthcare IT) will grow. Government jobs will increase to counter strong adversaries. Networking and continuous learning are essential.\n",
    "- Collaboration: Cybersecurity is a team effort; effective collaboration is key.\n",
    "\n",
    " - Start with a lab environment, then learn to apply creativity.\n",
    " - Nmap\n",
    " - dirbuster\n",
    " - Kali Linux Installed tools\n",
    "Those are the tools that hackers are using. Use them too. Play around with it on \n",
    "\n",
    "ISC2 CC is a good foundational cyber security certification.\n",
    "\n",
    "Group projects are VALUABLE. It is important to learn to deal with a bad group member. **The best way to deal with frustrating people is to deal with frustrating people.**\n",
    "\n",
    "Most exploits that have been hypothesized are not able to get off the ground. The majority is not easily done. It usually requires tons of experience and effort.\n",
    "\n",
    "Patches are only useful if they are able to remediate in a day. If not, severe damage has been done.\n",
    "\n",
    "How to get involved? attend conferences, and stay in the loop of cyber security."
   ]
  },
  {
   "cell_type": "markdown",
   "id": "db2905b9",
   "metadata": {},
   "source": [
    "![cyberceo panelexpert](https://i.ibb.co/pjdycKvB/image.jpg)"
   ]
  }
 ],
 "metadata": {
  "language_info": {
   "name": "python"
  }
 },
 "nbformat": 4,
 "nbformat_minor": 5
}
