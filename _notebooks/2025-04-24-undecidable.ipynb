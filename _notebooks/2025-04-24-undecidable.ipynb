{
 "cells": [
  {
   "cell_type": "code",
   "execution_count": null,
   "id": "812e9cc4",
   "metadata": {
    "vscode": {
     "languageId": "yaml"
    }
   },
   "outputs": [],
   "source": [
    "---\n",
    "layout: post\n",
    "title: Undecidable Problems and Graphs\n",
    "description: Team Teach Lesson HW\n",
    "permalink: /undecidable\n",
    "comments: true\n",
    "search_exclude: false\n",
    "---"
   ]
  },
  {
   "cell_type": "markdown",
   "id": "3de83165",
   "metadata": {
    "vscode": {
     "languageId": "yaml"
    }
   },
   "source": [
    "**Popcorn Hack #1**  \n",
    "**True or False:** In a directed graph, an edge from node A to node B implies that there is always a corresponding edge from node B to node A.  \n",
    "\n",
    "**Answer:** False  \n",
    "**Explanation:** In a directed graph, edges have a direction. An edge from node A to node B does not imply the existence of an edge from node B to node A unless explicitly stated."
   ]
  },
  {
   "cell_type": "markdown",
   "id": "4ddea1c2",
   "metadata": {},
   "source": [
    "**Popcorn Hack #2**  \n",
    "**True or False:** Heuristics always provide faster solutions than exact algorithms, but they may sacrifice accuracy for speed.  \n",
    "\n",
    "**Answer:** True  \n",
    "**Explanation:** Heuristics are designed to find good-enough solutions quickly by making educated guesses, often trading off accuracy or optimality for speed. However, they do not guarantee the best solution or even a feasible one in some cases."
   ]
  },
  {
   "cell_type": "markdown",
   "id": "c667059c",
   "metadata": {},
   "source": [
    "**Popcorn Hack #3**  \n",
    "**True or False:** While heuristic algorithms like the Nearest Neighbor algorithm can significantly reduce the computational time for TSP, they can never guarantee an optimal solution, and the gap between the heuristic solution and the optimal solution can grow exponentially as the number of cities increases.  \n",
    "\n",
    "**Answer:** True  \n",
    "**Explanation:** Heuristic algorithms like the Nearest Neighbor algorithm are designed for efficiency and practicality, often sacrificing optimality. For problems like the Traveling Salesman Problem (TSP), these algorithms do not guarantee the best solution, and the quality of the solution can degrade significantly as the problem size increases.\n"
   ]
  },
  {
   "cell_type": "markdown",
   "id": "d67efafc",
   "metadata": {},
   "source": [
    "### Homework: Social Network Analysis\n",
    "\n",
    "**Concept Overview:**  \n",
    "Social Network Analysis (SNA) is the process of investigating social structures through the use of networks and graph theory. It involves representing individuals or entities as nodes and their relationships or interactions as edges in a graph. This approach helps in understanding the dynamics, influence, and structure of social networks.\n",
    "\n",
    "**Representation of Users and Relationships in Social Networks:**  \n",
    "- **Nodes:** In social networks, nodes represent users, accounts, or entities. Each node can have attributes such as name, age, location, or interests.  \n",
    "- **Edges:** Edges represent relationships or interactions between nodes. These can be directed (e.g., follower-following relationships on Twitter) or undirected (e.g., mutual friendships on Facebook). Edges can also have weights to indicate the strength or frequency of interactions, such as the number of messages exchanged or likes given.\n",
    "\n",
    "**Example of a Real-World Social Media Platform:**  \n",
    "- **Platform:** Facebook  \n",
    "- **Role of Graph Theory:** Facebook uses graph theory extensively in its \"Social Graph,\" where users are nodes, and friendships or interactions are edges. Graph algorithms are applied to recommend friends, identify communities, and analyze the spread of information or influence within the network. For instance, the \"People You May Know\" feature leverages graph-based techniques to suggest potential connections by analyzing mutual friends and shared interests."
   ]
  }
 ],
 "metadata": {
  "language_info": {
   "name": "python"
  }
 },
 "nbformat": 4,
 "nbformat_minor": 5
}
