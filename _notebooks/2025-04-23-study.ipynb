{
 "cells": [
  {
   "cell_type": "code",
   "execution_count": null,
   "id": "9e232c7d",
   "metadata": {
    "vscode": {
     "languageId": "yaml"
    }
   },
   "outputs": [],
   "source": [
    "---\n",
    "layout: post\n",
    "title: Studying for AP Exam\n",
    "permalink: /study\n",
    "comments: false\n",
    "search_exclude: false\n",
    "---"
   ]
  },
  {
   "cell_type": "markdown",
   "id": "c4d2aa86",
   "metadata": {},
   "source": [
    "To study for the AP Exam, I will mainly be reviewing topics in Big Ideas 2, 3, and 5 in a book that I bought online. This will help me gain more understanding of the topics in AP CSP in a more focused and organized manner. The book recommends that I take a mock exam in a week, so I will be doing that to asses my improvement over time. Also, competing the 2021 MCQ helped me gain more experience in AP CSP-style problems. However, (correct me if I'm wrong) I believe that the best way is not to review the Team Teach Lessons because I feel that many of the topis covered in those lessons do not align fully with the College Board curriculum."
   ]
  },
  {
   "cell_type": "markdown",
   "id": "b036d8ef",
   "metadata": {
    "vscode": {
     "languageId": "yaml"
    }
   },
   "source": [
    "[Link to HW Blogs](https://adik1025.github.io/adi_student/blogs/)"
   ]
  },
  {
   "cell_type": "markdown",
   "id": "b246820c",
   "metadata": {},
   "source": [
    "[Link to my study tool](https://mhprofessional.benchprep.com/app/ap-computer-science-principles-2024-prep-by-mcgraw-hill-education)"
   ]
  },
  {
   "cell_type": "markdown",
   "id": "18d3f5c2",
   "metadata": {},
   "source": [
    "![Image](https://github.com/user-attachments/assets/bc028a4d-a3da-4d38-a478-591c020f7311)"
   ]
  },
  {
   "cell_type": "markdown",
   "id": "3a9683fb",
   "metadata": {},
   "source": [
    "![Image](https://github.com/user-attachments/assets/626e160b-69c2-4629-8521-8e986d354643)"
   ]
  },
  {
   "cell_type": "markdown",
   "id": "bbd75760",
   "metadata": {},
   "source": [
    "![Image](https://github.com/user-attachments/assets/27867d23-3e92-4f96-aefd-35592725a6d2)"
   ]
  },
  {
   "cell_type": "markdown",
   "id": "959c5b2d",
   "metadata": {},
   "source": [
    "![Image](https://github.com/user-attachments/assets/ac86cffb-581f-44b9-9a4a-556cee1f31ab)"
   ]
  },
  {
   "cell_type": "markdown",
   "id": "b06c00ed",
   "metadata": {},
   "source": [
    "![Image](https://github.com/user-attachments/assets/d37e5854-e3d2-4ce2-8e66-1c07bf40e23a)"
   ]
  },
  {
   "cell_type": "markdown",
   "id": "30ede99a",
   "metadata": {},
   "source": [
    "![Image](https://github.com/user-attachments/assets/12665336-de9b-43e3-9eea-c19c040aa84d)"
   ]
  }
 ],
 "metadata": {
  "language_info": {
   "name": "python"
  }
 },
 "nbformat": 4,
 "nbformat_minor": 5
}
