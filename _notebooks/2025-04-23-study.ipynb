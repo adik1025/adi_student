{
 "cells": [
  {
   "cell_type": "code",
   "execution_count": null,
   "id": "9e232c7d",
   "metadata": {
    "vscode": {
     "languageId": "yaml"
    }
   },
   "outputs": [],
   "source": [
    "---\n",
    "layout: post\n",
    "title: Studying for AP Exam\n",
    "permalink: /study\n",
    "comments: false\n",
    "search_exclude: false\n",
    "---"
   ]
  },
  {
   "cell_type": "markdown",
   "id": "c4d2aa86",
   "metadata": {},
   "source": [
    "To study for the AP Exam, I will mainly be reviewing topics in Big Ideas 2, 3, and 5 in a book that I bought online. This will help me gain more understanding of the topics in AP CSP in a more focused and organized manner. The book recommends that I take a mock exam in a week, so I will be doing that to asses my improvement over time. Also, competing the 2021 MCQ helped me gain more experience in AP CSP-style problems. However, (correct me if I'm wrong) I believe that the best way is not to review the Team Teach Lessons because I feel that many of the topis covered in those lessons do not align fully with the College Board curriculum."
   ]
  },
  {
   "cell_type": "markdown",
   "id": "b036d8ef",
   "metadata": {
    "vscode": {
     "languageId": "yaml"
    }
   },
   "source": [
    "[Link to HW Blogs](https://adik1025.github.io/adi_student/blogs/)"
   ]
  },
  {
   "cell_type": "markdown",
   "id": "b246820c",
   "metadata": {},
   "source": [
    "[Link to my study tool](https://mhprofessional.benchprep.com/app/ap-computer-science-principles-2024-prep-by-mcgraw-hill-education)"
   ]
  },
  {
   "cell_type": "markdown",
   "id": "45400c87",
   "metadata": {},
   "source": [
    "## 📋 Self-Grade Submission\n",
    "\n",
    "| Task | Description | Points Earned |\n",
    "|------|-------------|----------------|\n",
    "| Task Understanding | Demonstrated awareness of task requirements and expectations | 0.55 |\n",
    "| CPT Project | Uploaded project with three triangles, received comment and sign-off from Ms. Pataki | 0.10 |\n",
    "| MCQ Completion | Completed MCQ quiz, showed online quiz score, comment and sign-off from Ms. Pataki | 0.10 |\n",
    "| Study Plan Review | Reviewed blog and study plan with Mr. M (1.5 minutes) | 0.15 |\n",
    "\n",
    "### **Total Grade: 0.90**"
   ]
  }
 ],
 "metadata": {
  "language_info": {
   "name": "python"
  }
 },
 "nbformat": 4,
 "nbformat_minor": 5
}
