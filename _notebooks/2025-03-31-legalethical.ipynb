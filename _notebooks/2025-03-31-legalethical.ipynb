{
 "cells": [
  {
   "cell_type": "code",
   "execution_count": null,
   "metadata": {
    "vscode": {
     "languageId": "yaml"
    }
   },
   "outputs": [],
   "source": [
    "---\n",
    "layout: post\n",
    "title: Legal and Ethical Concerns\n",
    "description: Team Teach Lesson HW\n",
    "permalink: /legalethical\n",
    "comments: false\n",
    "search_exclude: false\n",
    "---"
   ]
  },
  {
   "cell_type": "markdown",
   "metadata": {},
   "source": [
    "**Popcorn Hack #1**\n",
    "\n",
    "Some ways to protect IP is to use copyrights, trademarks, or watermarks."
   ]
  },
  {
   "cell_type": "markdown",
   "metadata": {},
   "source": [
    "**Popcorn Hack #2**\n",
    "\n",
    "A Creative Commons license allows creators to communicate which rights they reserve and which rights they waive for the benefit of recipients or other creators. Exceptions to copyright law include fair use, which permits limited use of copyrighted material without permission for purposes such as criticism, comment, news reporting, teaching, scholarship, or research."
   ]
  },
  {
   "cell_type": "markdown",
   "metadata": {},
   "source": [
    "**Popcorn Hack 3**\n",
    "\n",
    "- Always credit the original creator.  \n",
    "- Obtain proper permissions or licenses for use.  \n",
    "- Use royalty-free or Creative Commons-licensed content.  \n",
    "- Create original content.  \n",
    "- Understand and apply fair use guidelines.  \n",
    "- Use copyright-checking tools to verify content usage.  "
   ]
  },
  {
   "cell_type": "markdown",
   "metadata": {},
   "source": [
    "[Link to Apache License in personal repo](https://github.com/adik1025/adi_student?tab=Apache-2.0-1-ov-file#readme)"
   ]
  },
  {
   "cell_type": "markdown",
   "metadata": {},
   "source": [
    "**Description of Pilot City Project**\n",
    "\n",
    "SD IMOP is a platform targeted towards city infrastructure managers and developers that are looking to remediate issues in city infrastructure before it becomes too urgent. This form of preventative maintenance is designed to solve problems before they become too severe."
   ]
  },
  {
   "cell_type": "markdown",
   "metadata": {},
   "source": [
    "[Link to Apache License in PilotCity repo](https://github.com/adik1025/imop_frontend/blob/main/LICENSE)"
   ]
  }
 ],
 "metadata": {
  "kernelspec": {
   "display_name": "venv",
   "language": "python",
   "name": "python3"
  },
  "language_info": {
   "name": "python",
   "version": "3.10.12"
  }
 },
 "nbformat": 4,
 "nbformat_minor": 2
}
