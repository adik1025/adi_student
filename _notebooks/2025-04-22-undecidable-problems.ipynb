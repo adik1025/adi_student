{
 "cells": [
  {
   "cell_type": "code",
   "execution_count": null,
   "id": "f832600e",
   "metadata": {
    "vscode": {
     "languageId": "yaml"
    }
   },
   "outputs": [],
   "source": [
    "---\n",
    "layout: post\n",
    "title: Undecidable Problems\n",
    "description: Team Teach Lesson HW\n",
    "permalink: /un\n",
    "comments: false\n",
    "search_exclude: false\n",
    "---"
   ]
  },
  {
   "cell_type": "markdown",
   "id": "bed125d4",
   "metadata": {},
   "source": [
    "# Popcorn Hack #1\n",
    "\n",
    "False - Algorithms cannot be used to solve undecidable problems."
   ]
  },
  {
   "cell_type": "markdown",
   "id": "bfec7a81",
   "metadata": {},
   "source": []
  }
 ],
 "metadata": {
  "language_info": {
   "name": "python"
  }
 },
 "nbformat": 4,
 "nbformat_minor": 5
}
