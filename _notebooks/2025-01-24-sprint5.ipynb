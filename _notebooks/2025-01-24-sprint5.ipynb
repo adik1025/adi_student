{
 "cells": [
  {
   "cell_type": "raw",
   "metadata": {},
   "source": [
    "---\n",
    "layout: post\n",
    "title: Sprint 5 Individual Blog\n",
    "description: Reflection on Sprint 5\n",
    "permalink: /sprint5/\n",
    "---"
   ]
  },
  {
   "cell_type": "markdown",
   "metadata": {},
   "source": [
    "# Poll Feature Review Blog\n",
    "\n",
    "## Purpose of My Individual Feature\n",
    "- Stores a person's name and their interests (or any poll-related data)\n",
    "- Supports full CRUD operations through API endpoints\n",
    "---\n",
    "## Input/Output Requests\n",
    "\n",
    "Code snippet that takes info from backend and writes to DOM:"
   ]
  },
  {
   "cell_type": "code",
   "execution_count": null,
   "metadata": {
    "vscode": {
     "languageId": "html"
    }
   },
   "outputs": [],
   "source": [
    "<form id=\"pollForm\">\n",
    "    <label for=\"name\">What is your name?</label>\n",
    "    <input type=\"text\" id=\"name\" name=\"name\" placeholder=\"Enter your name\" required>\n",
    "\n",
    "    <label for=\"interests\">What are your interests?</label>\n",
    "    <input type=\"text\" id=\"interests\" name=\"interests\" placeholder=\"Enter your interests\" required>\n",
    "\n",
    "    <button type=\"submit\">Submit</button>\n",
    "</form>\n",
    "\n",
    "<script>\n",
    "    document.getElementById('pollForm').addEventListener('submit', function(event) {\n",
    "        event.preventDefault();\n",
    "\n",
    "        const name = document.getElementById('name').value;\n",
    "        const interests = document.getElementById('interests').value;\n",
    "\n",
    "        const payload = {\n",
    "            name: name,\n",
    "            interests: interests\n",
    "        };\n",
    "\n",
    "        // Frontend -> API request\n",
    "        fetch('http://localhost:8887/api/poll_add', {\n",
    "            method: 'POST',\n",
    "            headers: { 'Content-Type': 'application/json' },\n",
    "            body: JSON.stringify(payload)\n",
    "        })\n",
    "        .then(response => response.json())\n",
    "        .then(data => {\n",
    "            console.log(data);\n",
    "            document.getElementById('pollForm').reset();\n",
    "            location.reload(); // Refresh to show updated data\n",
    "        })\n",
    "        .catch(error => console.error('Error:', error));\n",
    "    });\n",
    "</script>"
   ]
  },
  {
   "cell_type": "markdown",
   "metadata": {},
   "source": [
    "Use of python list where rows are extracted from database and returned as a response."
   ]
  },
  {
   "cell_type": "code",
   "execution_count": null,
   "metadata": {},
   "outputs": [],
   "source": [
    "\"\"\"\n",
    "GET request handler: Read all polls.\n",
    "\"\"\"\n",
    "def get(self):\n",
    "    try:\n",
    "        # Retrieve all poll records\n",
    "        polls = Poll.query.all()\n",
    "        # Convert each poll to a dictionary\n",
    "        response_data = []\n",
    "        for poll in polls:\n",
    "            response_data.append(poll.read())\n",
    "        return jsonify(response_data)\n",
    "    except Exception as e:\n",
    "        print(f\"Poll Read Error: {e}\")\n",
    "        return {'message': f'Error retrieving poll data: {e}'}, 400"
   ]
  }
 ],
 "metadata": {
  "kernelspec": {
   "display_name": "venv",
   "language": "python",
   "name": "python3"
  },
  "language_info": {
   "codemirror_mode": {
    "name": "ipython",
    "version": 3
   },
   "file_extension": ".py",
   "mimetype": "text/x-python",
   "name": "python",
   "nbconvert_exporter": "python",
   "pygments_lexer": "ipython3",
   "version": "3.10.12"
  }
 },
 "nbformat": 4,
 "nbformat_minor": 2
}
