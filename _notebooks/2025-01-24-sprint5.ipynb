{
 "cells": [
  {
   "cell_type": "raw",
   "metadata": {},
   "source": [
    "---\n",
    "layout: post\n",
    "title: Sprint 5 Individual Blog\n",
    "description: Reflection on Sprint 5\n",
    "permalink: /sprint5/\n",
    "---"
   ]
  },
  {
   "cell_type": "markdown",
   "metadata": {},
   "source": [
    "# Poll Feature Review Blog\n",
    "\n",
    "## Purpose of My Individual Feature\n",
    "- Stores a person's name and their interests (or any poll-related data)\n",
    "- Supports full CRUD operations through API endpoints\n",
    "- Purpose of the group project is to connect people through shared interests and connect people in this way\n",
    "---\n"
   ]
  },
  {
   "cell_type": "markdown",
   "metadata": {},
   "source": [
    "## Using postman to show raw API request and RESTful response (error code(s) and JSON)\n",
    "\n",
    "Create:\n",
    "<img src=\"/adi_student/images/add.png\">\n",
    "Read:\n",
    "<img src=\"/adi_student/images/read.png\">\n",
    "Update:\n",
    "<img src=\"/adi_student/images/update.png\">\n",
    "Delete:\n",
    "<img src=\"/adi_student/images/delete.png\">"
   ]
  },
  {
   "cell_type": "markdown",
   "metadata": {},
   "source": [
    "## Using db_init, db_restore, db_backup to show tester data creation and data recovery."
   ]
  },
  {
   "cell_type": "markdown",
   "metadata": {
    "vscode": {
     "languageId": "html"
    }
   },
   "source": [
    "## Initialize Database"
   ]
  },
  {
   "cell_type": "code",
   "execution_count": null,
   "metadata": {},
   "outputs": [],
   "source": [
    "# model/poll.py\n",
    "\n",
    "def initPolls():\n",
    "    \"\"\"\n",
    "    Initialize the Poll table with default data.\n",
    "    \"\"\"\n",
    "    polls = [\n",
    "        Poll(\"Toby\", \"Jazz\"),\n",
    "        Poll(\"Niko\", \"Rock\")\n",
    "    ]\n",
    "    for poll in polls:\n",
    "        try:\n",
    "            db.session.add(poll)\n",
    "            db.session.commit()\n",
    "            print(f\"Added poll: {poll.name}\")\n",
    "        except Exception as e:\n",
    "            db.session.rollback()\n",
    "            print(f\"Error adding poll: {poll.name} - {e}\")\n"
   ]
  },
  {
   "cell_type": "code",
   "execution_count": null,
   "metadata": {
    "vscode": {
     "languageId": "shellscript"
    }
   },
   "outputs": [],
   "source": [
    "$ ./scripts/db_init.py\n",
    "Warning, you are about to lose all data in the database!\n",
    "Database backed up to instance/volumes/user_management_bak.db\n",
    "All tables dropped.\n",
    "Generating data.\n",
    "\n",
    "...\n",
    "\n",
    "\n",
    "Added poll: toby\n",
    "Added poll: niko"
   ]
  },
  {
   "cell_type": "markdown",
   "metadata": {},
   "source": [
    "## Restore Database"
   ]
  },
  {
   "cell_type": "code",
   "execution_count": null,
   "metadata": {},
   "outputs": [],
   "source": [
    "# model/poll.py\n",
    "\n",
    "@staticmethod\n",
    "def restore(data):\n",
    "    # Restore polls using a list of dictionaries.\n",
    "    restored_polls = {}\n",
    "    for poll_data in data:\n",
    "        try:\n",
    "            _ = poll_data.pop('id', None) # remove id column from poll_data\n",
    "            name = poll_data.get(\"name\", None)\n",
    "            interests = poll_data.get(\"interests\", None)\n",
    "\n",
    "            poll_key = name\n",
    "            poll = Poll.query.filter_by(name=name).first()\n",
    "            if poll:\n",
    "                poll.update(poll_data)\n",
    "            else:\n",
    "                poll = Poll(**poll_data)\n",
    "                poll.create()\n",
    "\n",
    "            restored_polls[poll_key] = poll\n",
    "        except Exception as e:\n",
    "            print(f\"Error processing poll data: {poll_data} - {e}\")\n",
    "            continue\n",
    "\n",
    "    return restored_polls"
   ]
  },
  {
   "cell_type": "markdown",
   "metadata": {},
   "source": [
    "## Backup Database"
   ]
  },
  {
   "cell_type": "code",
   "execution_count": null,
   "metadata": {},
   "outputs": [],
   "source": [
    "# main.py\n",
    "\n",
    "def backup_database(db_uri, backup_uri):\n",
    "    \"\"\"Backup the current database.\"\"\"\n",
    "    if backup_uri:\n",
    "        db_path = db_uri.replace('sqlite:///', 'instance/')\n",
    "        backup_path = backup_uri.replace('sqlite:///', 'instance/')\n",
    "        shutil.copyfile(db_path, backup_path)\n",
    "        print(f\"Database backed up to {backup_path}\")\n",
    "    else:\n",
    "        print(\"Backup not supported for production database.\")\n",
    "\n",
    "\n",
    "def extract_data():\n",
    "    data = {}\n",
    "    with app.app_context():\n",
    "        data['polls'] = [poll.read() for poll in Poll.query.all()]\n",
    "    return data\n",
    "\n",
    "def save_data_to_json(data, directory='backup'):\n",
    "    if not os.path.exists(directory):\n",
    "        os.makedirs(directory)\n",
    "    for table, records in data.items():\n",
    "        with open(os.path.join(directory, f'{table}.json'), 'w') as f:\n",
    "            json.dump(records, f)\n",
    "    print(f\"Data backed up to {directory} directory.\")\n",
    "\n",
    "def backup_data():\n",
    "    data = extract_data()\n",
    "    save_data_to_json(data)\n",
    "    backup_database(app.config['SQLALCHEMY_DATABASE_URI'], app.config['SQLALCHEMY_BACKUP_URI'])\n"
   ]
  },
  {
   "cell_type": "markdown",
   "metadata": {},
   "source": [
    "---\n",
    "\n",
    "## Input/Output Requests\n",
    "\n",
    "Formatting response data (JSON) from API into DOM:"
   ]
  },
  {
   "cell_type": "code",
   "execution_count": null,
   "metadata": {
    "vscode": {
     "languageId": "html"
    }
   },
   "outputs": [],
   "source": [
    "<!-- navigation/worlds/polls.md -->\n",
    "\n",
    "<table class=\"submit-answer-container\">\n",
    "    <thead>\n",
    "        <tr>\n",
    "            <th>Name</th>\n",
    "            <th>Result</th>\n",
    "        </tr>\n",
    "    </thead>\n",
    "    <tbody id=\"poll-data\">\n",
    "        <!-- Data will be dynamically inserted here -->\n",
    "    </tbody>\n",
    "</table>\n",
    "\n",
    "\n",
    "<script type=\"module\">\n",
    "    import { pythonURI, fetchOptions } from \"{{site.baseurl}}/assets/js/api/config.js\";\n",
    "\n",
    "    try {\n",
    "        var response = await fetch(`${pythonURI}/api/poll`, fetchOptions);\n",
    "    }\n",
    "    catch (error) {\n",
    "        console.error('There has been a problem with your fetch operation:', error);\n",
    "    }\n",
    "\n",
    "    var data = await response.json();\n",
    "\n",
    "    const pollData = document.getElementById('poll-data');\n",
    "    pollData.innerHTML = '';\n",
    "\n",
    "    data.forEach(item => {\n",
    "        const row = document.createElement('tr');\n",
    "\n",
    "        const nameCell = document.createElement('td');\n",
    "        nameCell.textContent = item.name;\n",
    "\n",
    "        const interestsCell = document.createElement('td');\n",
    "        interestsCell.textContent = item.interests;\n",
    "\n",
    "        row.appendChild(nameCell);\n",
    "        row.appendChild(interestsCell);\n",
    "        pollData.appendChild(row);\n",
    "    });\n",
    "\n",
    "</script>"
   ]
  },
  {
   "cell_type": "markdown",
   "metadata": {},
   "source": [
    "## Discuss queries from database where you extract a Python List (rows). Mention how these queries are provide by a 3rd. party library.\n",
    "\n",
    "This code snippet uses SQLAlchemy, which makes it easier to use OOP to communicate with a database. It also uses methods in a class to work with **columns** in the database using CRUD operations."
   ]
  },
  {
   "cell_type": "code",
   "execution_count": null,
   "metadata": {},
   "outputs": [],
   "source": [
    "class PollAPI:\n",
    "    \"\"\"\n",
    "    Define the API endpoints for the Poll model.\n",
    "    \"\"\"\n",
    "\n",
    "    class _Read(Resource): # R = Read\n",
    "        \"\"\"\n",
    "        GET request handler: Read all polls.\n",
    "        \"\"\"\n",
    "        @token_required()\n",
    "        def get(self):\n",
    "            try:\n",
    "                # Retrieve all poll records\n",
    "                polls = Poll.query.all()\n",
    "                poll_list = []\n",
    "                for poll in polls:\n",
    "                    poll_list.append(poll.read())\n",
    "                return jsonify(poll_list)\n",
    "            except Exception as e:\n",
    "                print(f\"Poll Read Error: {e}\")\n",
    "                return {'message': f'Error retrieving poll data: {str(e)}'}, 500\n",
    "\n",
    "    class _Create(Resource): # C = Create\n",
    "        \"\"\"\n",
    "        POST request handler: Create a new poll.\n",
    "        \"\"\"\n",
    "        @token_required()\n",
    "        def post(self):\n",
    "            try:\n",
    "                data = request.get_json()\n",
    "                if not data:\n",
    "                    return {'message': 'No input data provided'}, 400\n",
    "\n",
    "                name = data.get('name')\n",
    "                interests = data.get('interests')\n",
    "\n",
    "                # Basic validation\n",
    "                if not name or interests is None:\n",
    "                    return {'message': 'name and interests fields are required.'}, 422\n",
    "\n",
    "                # Create and save the new Poll\n",
    "                new_poll = Poll(name, interests)\n",
    "                new_poll.create()\n",
    "\n",
    "                return {'message': 'Poll data inserted successfully'}, 201\n",
    "\n",
    "            except KeyError as e:\n",
    "                return {'message': f'Missing field: {str(e)}'}, 400\n",
    "            except Exception as e:\n",
    "                print(f\"Poll Create Error: {e}\")\n",
    "                return {'message': f'Error inserting poll data: {str(e)}'}, 500\n",
    "\n",
    "    class _Update(Resource): # U = Update\n",
    "        @token_required()\n",
    "        def put(self):\n",
    "            try:\n",
    "                data = request.get_json()\n",
    "                if not data:\n",
    "                    return {'message': 'No input data provided'}, 400\n",
    "\n",
    "                poll_id = data.get('id')\n",
    "                if not poll_id:\n",
    "                    return {'message': 'Poll ID is required.'}, 400\n",
    "\n",
    "                poll = Poll.query.get(poll_id)\n",
    "                if not poll:\n",
    "                    return {'message': 'Poll not found.'}, 404\n",
    "\n",
    "                name = data.get('name')\n",
    "                interests = data.get('interests')\n",
    "\n",
    "                if name:\n",
    "                    poll.name = name\n",
    "                else:\n",
    "                    poll.name = poll.name\n",
    "\n",
    "                if interests is not None:\n",
    "                    poll.interests = interests\n",
    "                else:\n",
    "                    poll.interests = poll.interests\n",
    "\n",
    "                poll.update({\n",
    "                    \"name\": poll.name,\n",
    "                    \"interests\": poll.interests\n",
    "                })\n",
    "                return {'message': 'Poll updated successfully'}, 200\n",
    "\n",
    "            except KeyError as e:\n",
    "                return {'message': f'Missing field: {str(e)}'}, 400\n",
    "            except Exception as e:\n",
    "                print(f\"Poll Update Error: {e}\")\n",
    "                return {'message': f'Error updating poll: {str(e)}'}, 500\n",
    "\n",
    "    class _Delete(Resource): # D = Delete\n",
    "        @token_required()\n",
    "        def delete(self):\n",
    "            try:\n",
    "                data = request.get_json()\n",
    "                if not data:\n",
    "                    return {'message': 'No input data provided'}, 400\n",
    "\n",
    "                poll_id = data.get('id')\n",
    "                if not poll_id:\n",
    "                    return {'message': 'Poll ID is required.'}, 422\n",
    "\n",
    "                poll = Poll.query.get(poll_id)\n",
    "                if not poll:\n",
    "                    return {'message': 'Poll not found.'}, 404\n",
    "\n",
    "                poll.delete()\n",
    "                return {'message': 'Poll deleted successfully'}, 200\n",
    "\n",
    "            except KeyError as e:\n",
    "                return {'message': f'Missing field: {str(e)}'}, 400\n",
    "            except Exception as e:\n",
    "                print(f\"Poll Delete Error: {e}\")\n",
    "                return {'message': f'Error deleting poll: {str(e)}'}, 500\n",
    "\n",
    "# Map the resources to their endpoints\n",
    "api.add_resource(PollAPI._Read, '/poll')\n",
    "api.add_resource(PollAPI._Create, '/poll')\n",
    "api.add_resource(PollAPI._Update, '/poll')\n",
    "api.add_resource(PollAPI._Delete, '/poll')"
   ]
  },
  {
   "cell_type": "markdown",
   "metadata": {},
   "source": [
    "## For the GET function:\n",
    "\n",
    "Sequencing: retrieves poll data, creates empty list, iterates through poll data and appends to end of list, returns JSON output.\n",
    "<br>\n",
    "Selection: The try-except code block selects the error if an exception occurs and prints the error and returns output.\n",
    "<br>\n",
    "Iteration: Iteration through a for loop to add poll data into an empty array\n",
    "\n",
    "## For the PUT function:\n",
    "\n",
    "JSON parameters are taken and converted into python list for usability and processing. The GET function returns a JSON response using `jsonify` which converts the list of poll data into JSON format."
   ]
  },
  {
   "cell_type": "markdown",
   "metadata": {},
   "source": [
    "## Function to add a new poll"
   ]
  },
  {
   "cell_type": "code",
   "execution_count": null,
   "metadata": {
    "vscode": {
     "languageId": "javascript"
    }
   },
   "outputs": [],
   "source": [
    "async function addPoll() {\n",
    "    const name = document.getElementById('addPollName').value;\n",
    "    const interests = document.getElementById('addPollInterests').value;\n",
    "    const payload = { name, interests };\n",
    "\n",
    "    try {\n",
    "        const response = await fetch(`${pythonURI}/api/poll`, {\n",
    "            ...fetchOptions,\n",
    "            method: 'POST',\n",
    "            headers: { 'Content-Type': 'application/json' },\n",
    "            body: JSON.stringify(payload)\n",
    "        });\n",
    "        if (!response.ok) {\n",
    "            throw new Error('Network response was not ok ' + response.statusText);\n",
    "        }\n",
    "        const data = await response.json();\n",
    "        console.log('Poll added:', data);\n",
    "        location.reload();\n",
    "    } catch (error) {\n",
    "        console.error('Error adding poll:', error);\n",
    "    }\n",
    "}"
   ]
  },
  {
   "cell_type": "markdown",
   "metadata": {},
   "source": [
    "## Function to update an existing poll"
   ]
  },
  {
   "cell_type": "code",
   "execution_count": null,
   "metadata": {
    "vscode": {
     "languageId": "javascript"
    }
   },
   "outputs": [],
   "source": [
    "async function updatePoll() {\n",
    "    const id = document.getElementById('updatePollId').value;\n",
    "    const name = document.getElementById('updatePollName').value;\n",
    "    const interests = document.getElementById('updatePollInterests').value;\n",
    "    const payload = { id, name, interests };\n",
    "\n",
    "    try {\n",
    "        const response = await fetch(`${pythonURI}/api/poll`, {\n",
    "            ...fetchOptions,\n",
    "            method: 'PUT',\n",
    "            headers: { 'Content-Type': 'application/json' },\n",
    "            body: JSON.stringify(payload)\n",
    "        });\n",
    "        if (!response.ok) {\n",
    "            throw new Error('Network response was not ok ' + response.statusText);\n",
    "        }\n",
    "        const data = await response.json();\n",
    "        console.log('Poll updated:', data);\n",
    "        location.reload();\n",
    "    } catch (error) {\n",
    "        console.error('Error updating poll:', error);\n",
    "    }\n",
    "}\n"
   ]
  },
  {
   "cell_type": "markdown",
   "metadata": {},
   "source": [
    "## Function to delete a poll"
   ]
  },
  {
   "cell_type": "code",
   "execution_count": null,
   "metadata": {
    "vscode": {
     "languageId": "javascript"
    }
   },
   "outputs": [],
   "source": [
    "async function deletePoll() {\n",
    "    const id = document.getElementById('deletePollId').value;\n",
    "    const payload = { id };\n",
    "\n",
    "    try {\n",
    "        const response = await fetch(`${pythonURI}/api/poll`, {\n",
    "            ...fetchOptions,\n",
    "            method: 'DELETE',\n",
    "            headers: { 'Content-Type': 'application/json' },\n",
    "            body: JSON.stringify(payload)\n",
    "        });\n",
    "        if (!response.ok) {\n",
    "            throw new Error('Network response was not ok ' + response.statusText);\n",
    "        }\n",
    "        const data = await response.json();\n",
    "        console.log('Poll deleted:', data);\n",
    "        location.reload();\n",
    "    } catch (error) {\n",
    "        console.error('Error deleting poll:', error);\n",
    "    }\n",
    "}"
   ]
  },
  {
   "cell_type": "markdown",
   "metadata": {},
   "source": [
    "## Function to fetch and display poll data"
   ]
  },
  {
   "cell_type": "code",
   "execution_count": null,
   "metadata": {
    "vscode": {
     "languageId": "javascript"
    }
   },
   "outputs": [],
   "source": [
    "async function fetchPollData() {\n",
    "    try {\n",
    "        const response = await fetch(`${pythonURI}/api/poll`, fetchOptions);\n",
    "        if (!response.ok) {\n",
    "            throw new Error('Network response was not ok ' + response.statusText);\n",
    "        }\n",
    "        const data = await response.json();\n",
    "        const pollData = document.getElementById('poll-data');\n",
    "        pollData.innerHTML = '';\n",
    "\n",
    "        data.forEach(item => {\n",
    "            const row = document.createElement('tr');\n",
    "\n",
    "            const nameCell = document.createElement('td');\n",
    "            nameCell.textContent = item.name;\n",
    "\n",
    "            const interestsCell = document.createElement('td');\n",
    "            interestsCell.textContent = item.interests;\n",
    "\n",
    "            row.appendChild(nameCell);\n",
    "            row.appendChild(interestsCell);\n",
    "            pollData.appendChild(row);\n",
    "        });\n",
    "    } catch (error) {\n",
    "        console.error('Error fetching poll data:', error);\n",
    "    }\n",
    "}"
   ]
  },
  {
   "cell_type": "markdown",
   "metadata": {
    "vscode": {
     "languageId": "javascript"
    }
   },
   "source": [
    "## Call the function and display the data on page load"
   ]
  },
  {
   "cell_type": "code",
   "execution_count": null,
   "metadata": {
    "vscode": {
     "languageId": "javascript"
    }
   },
   "outputs": [],
   "source": [
    "document.addEventListener(\"DOMContentLoaded\", function() {\n",
    "    fetchPollData();\n",
    "  });"
   ]
  },
  {
   "cell_type": "markdown",
   "metadata": {},
   "source": [
    "## Call/Request method with algorithm:\n",
    "\n",
    "Frontend fetches from backend using PythonURI then takes then, depending on the method being used, either outputs it to DOM or uses the backend to add to database. During error conditions, the use of `alert` functions has been minimized to ensure a smooth UI when an exception occurs.\n",
    "\n",
    "In conclusion, the Poll feature effectively demonstrates the integration of CRUD operations, database management, and frontend-backend communication to create a seamless user experience."
   ]
  }
 ],
 "metadata": {
  "kernelspec": {
   "display_name": "venv",
   "language": "python",
   "name": "python3"
  },
  "language_info": {
   "codemirror_mode": {
    "name": "ipython",
    "version": 3
   },
   "file_extension": ".py",
   "mimetype": "text/x-python",
   "name": "python",
   "nbconvert_exporter": "python",
   "pygments_lexer": "ipython3",
   "version": "3.10.12"
  }
 },
 "nbformat": 4,
 "nbformat_minor": 2
}
