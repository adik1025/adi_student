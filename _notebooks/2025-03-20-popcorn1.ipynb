{
 "cells": [
  {
   "cell_type": "raw",
   "metadata": {
    "vscode": {
     "languageId": "raw"
    }
   },
   "source": [
    "---\n",
    "layout: post\n",
    "title: Beneficial and Harmful Hacks\n",
    "description: Home Page\n",
    "permalink: /pop\n",
    "comments: false\n",
    "search_exclude: false\n",
    "---"
   ]
  },
  {
   "cell_type": "markdown",
   "metadata": {},
   "source": [
    "# Beneficial Effect: Increased opportunity for education\n",
    "\n",
    " - Technology allows students to continuously remain educated, even when away from the classroom. \n",
    " - There are also several online courses and sites that are free to use (or paid) that allow students to learn in areas where there not be a physical classroom. Some examples include Khan Academy and YouTube. \n",
    " - Students can continue what they learned in the physical classrooms online, using apps such as Canvas.\n",
    "\n",
    "# Harmful Effect: Fake News\n",
    "\n",
    "  - Social media apps result in misinformation being spread easily, and it may cause issues in major political interactions, such as elections.\n",
    "  - We can use responsible programming to reduce the likelihood of spreading Fake News by limiting the number of views per post and taking down posts that are factually proven to be incorrect.\n",
    "  - Fake news may also make a negative impact on people and their perception of various topics, for example health. Influencers can make bold claims for a certain product due to sponsorships, and may appear to be a reputable source. However, they may not be the best source for this information.\n",
    "\n",
    "# Importance of Understanding Dopamine-driven Tech\n",
    "\n",
    " - It is important to understand the effects of dopamine-driven technology because it may demotivate us from spending excessive hours on social media.\n",
    " - Excessive use of dopamine-driven apps can lead to addiction, which may negatively impact mental health and productivity.\n",
    " - Understanding these effects can help us design healthier habits and set boundaries for technology use."
   ]
  },
  {
   "cell_type": "markdown",
   "metadata": {},
   "source": [
    "# Homework Hack #1: Rethinking AI for New Uses\n",
    "**Task:** AI is often used in new ways that weren’t planned. Your job is to think of a new way to use an AI invention.\n",
    "\n",
    "**Steps to Complete**  \n",
    "1. Choose an AI technology (e.g., Chatbots, Self-driving Cars, Facial Recognition).  \n",
    "2. Research & Explain how it was originally intended to be used.  \n",
    "3. Create a New Use Case – How could this AI be used differently than planned?  \n",
    "4. Analyze the Impact – List two benefits and two risks of this alternative use.\n",
    "\n",
    "**Example Response:**  \n",
    "AI Innovation: Self-driving cars.  \n",
    "Original Use: Designed for transportation.  \n",
    "New Use Case: Used in farming to automate harvesting crops.  \n",
    "Impact:  \n",
    "• Benefits – Increases food production, reduces human labor.  \n",
    "• Risks – May take jobs from farmers, expensive to implement.\n",
    "\n",
    "---\n",
    "\n",
    "# Homework Hack #2: Ethical AI Coding Challenge\n",
    "**Task:** AI can cause problems if not designed well. Your job is to find a problem AI has caused and think of ways to fix it.\n",
    "\n",
    "**Steps to Complete**  \n",
    "1. Identify a Problem – Choose an AI issue (e.g., job loss, bias in hiring, misinformation).  \n",
    "2. Describe the Risk – How does this AI create harm in society?  \n",
    "3. Propose Two Solutions – What programming techniques or policies could reduce this risk?  \n",
    "4. Write a Short Reflection (3-5 sentences) – Why is ethical AI development important?\n",
    "\n",
    "**Example Response:**  \n",
    "Problem: AI in hiring software, may favor certain groups over others.  \n",
    "Risk: Biased hiring can make it harder for qualified people to get jobs.  \n",
    "Solution 1: Use different kinds of training data to reduce bias in AI decisions.  \n",
    "Solution 2: Have the human brain to review AI-generated recommendations.  \n",
    "Reflection: AI is powerful, but it should be fair and transparent to avoid discrimination. Ethical programming ensures technology helps everyone.\n",
    "\n",
    "---\n",
    "\n",
    "# Homework Hack #3: AI & Unintended Consequences Research Task\n",
    "**Task:** Many AI systems have unexpected effects on society. Your goal is to find and analyze a real-world AI example that led to unintended consequences.\n",
    "\n",
    "**Steps to Complete**  \n",
    "1. Find an Example – Research an AI-related news story where technology had unintended effects.  \n",
    "2. Summarize What Happened – Explain the AI’s purpose and the issue it caused.  \n",
    "3. Evaluate the Response – Did companies or governments take action to fix the issue?  \n",
    "4. Propose a Preventative Measure – How could developers have avoided this problem?\n",
    "\n",
    "**Example Response:**  \n",
    "AI Example: YouTube’s recommendation system.  \n",
    "What Happened: It was designed to keep users engaged but ended up spreading misinformation and harmful content.  \n",
    "Response: YouTube changed its algorithm to reduce harmful recommendations.  \n",
    "Prevention: AI developers should have tested for harmful patterns before launching the system.\n",
    "```"
   ]
  }
 ],
 "metadata": {
  "language_info": {
   "name": "python"
  }
 },
 "nbformat": 4,
 "nbformat_minor": 2
}
