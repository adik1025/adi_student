{
 "cells": [
  {
   "cell_type": "raw",
   "metadata": {
    "vscode": {
     "languageId": "raw"
    }
   },
   "source": [
    "---\n",
    "layout: post\n",
    "title: Beneficial and Harmful Hacks\n",
    "description: Home Page\n",
    "permalink: /pop\n",
    "comments: false\n",
    "search_exclude: false\n",
    "---"
   ]
  },
  {
   "cell_type": "markdown",
   "metadata": {},
   "source": [
    "# Beneficial Effect: Increased opportunity for education\n",
    "\n",
    " - Technology allows students to continuously remain educated, even when away from the classroom. \n",
    " - There are also several online courses and sites that are free to use (or paid) that allow students to learn in areas where there not be a physical classroom. Some examples include Khan Academy and YouTube. \n",
    " - Students can continue what they learned in the physical classrooms online, using apps such as Canvas.\n",
    "\n",
    "# Harmful Effect: Fake News\n",
    "\n",
    "  - Social media apps result in misinformation being spread easily, and it may cause issues in major political interactions, such as elections.\n",
    "  - We can use responsible programming to reduce the likelihood of spreading Fake News by limiting the number of views per post and taking down posts that are factually proven to be incorrect.\n",
    "  - Fake news may also make a negative impact on people and their perception of various topics, for example health. Influencers can make bold claims for a certain product due to sponsorships, and may appear to be a reputable source. However, they may not be the best source for this information.\n",
    "\n",
    "# Importance of Understanding Dopamine-driven Tech\n",
    "\n",
    " - It is important to understand the effects of dopamine-driven technology because it may demotivate us from spending excessive hours on social media.\n",
    " - Excessive use of dopamine-driven apps can lead to addiction, which may negatively impact mental health and productivity.\n",
    " - Understanding these effects can help us design healthier habits and set boundaries for technology use."
   ]
  },
  {
   "cell_type": "markdown",
   "metadata": {},
   "source": [
    "# Homework Hack #1: Rethinking AI for New Uses\n",
    "\n",
    "AI Innovation: Facial Recognition\n",
    "Original Use: Security and identification.\n",
    "New Use Case: Assist museums in analyzing visitor reactions to artwork, measuring engagement and emotional responses.\n",
    "Impact:\n",
    "Benefits: Improves exhibit planning, personalizes visitor experiences.\n",
    "Risks: Potential privacy concerns, reliance on technology over human interaction.\n",
    "\n",
    "This approach gathers visitor reactions to art pieces, helping museums tailor exhibits for higher engagement and better user experiences. While beneficial for planning and personalization, it also raises privacy concerns and highlights the balance needed between technology and human elements."
   ]
  },
  {
   "cell_type": "markdown",
   "metadata": {},
   "source": [
    "# Homework Hack #2: Ethical AI Coding Challenge\n",
    "\n",
    "Problem: AI-driven social media recommendations fueling echo chambers.\n",
    "Risk: Users get trapped in one-sided information, hurting open dialogue.\n",
    "Solution 1: Diversify training data and recommendation algorithms to show varied viewpoints.\n",
    "Solution 2: Build policy checks that monitor extreme content.\n",
    "Reflection: Ethical AI avoids harm by addressing bias and misinformation early. It ensures solutions are fair and transparent. Without ethical oversight, AI can amplify societal issues. Developers must consider consequences beyond technical success."
   ]
  },
  {
   "cell_type": "markdown",
   "metadata": {},
   "source": [
    "# Homework Hack #3: AI & Unintended Consequences Research Task\n",
    "\n",
    "AI Example: An automated resume-screening system.\n",
    "What Happened: Intended to speed up hiring but ended up favoring certain candidates based on skewed past data.\n",
    "Response: Some companies revised their models and included more representative training data.\n",
    "Prevention: Developers should audit AI decisions regularly and test for discriminatory patterns before deployment.\n"
   ]
  }
 ],
 "metadata": {
  "language_info": {
   "name": "python"
  }
 },
 "nbformat": 4,
 "nbformat_minor": 2
}
