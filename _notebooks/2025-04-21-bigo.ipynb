{
 "cells": [
  {
   "cell_type": "code",
   "execution_count": null,
   "id": "3fb52855",
   "metadata": {
    "vscode": {
     "languageId": "yaml"
    }
   },
   "outputs": [],
   "source": [
    "---\n",
    "layout: post\n",
    "title: Big O Team Teach Lesson\n",
    "permalink: /big\n",
    "comments: false\n",
    "search_exclude: false\n",
    "---"
   ]
  },
  {
   "cell_type": "markdown",
   "id": "e291afa7",
   "metadata": {},
   "source": [
    "# Homework Hack"
   ]
  },
  {
   "cell_type": "code",
   "execution_count": 1,
   "id": "3a7da1f7",
   "metadata": {},
   "outputs": [
    {
     "name": "stdout",
     "output_type": "stream",
     "text": [
      "Constant:\n",
      "5\n",
      "\n",
      "Linear:\n",
      "5\n",
      "10\n",
      "15\n",
      "20\n",
      "25\n",
      "\n",
      "Quadratic:\n",
      "(5, 5)\n",
      "(5, 10)\n",
      "(5, 15)\n",
      "(5, 20)\n",
      "(5, 25)\n",
      "(10, 5)\n",
      "(10, 10)\n",
      "(10, 15)\n",
      "(10, 20)\n",
      "(10, 25)\n",
      "(15, 5)\n",
      "(15, 10)\n",
      "(15, 15)\n",
      "(15, 20)\n",
      "(15, 25)\n",
      "(20, 5)\n",
      "(20, 10)\n",
      "(20, 15)\n",
      "(20, 20)\n",
      "(20, 25)\n",
      "(25, 5)\n",
      "(25, 10)\n",
      "(25, 15)\n",
      "(25, 20)\n",
      "(25, 25)\n"
     ]
    }
   ],
   "source": [
    "def time_complexity_operation(arr, complexity):\n",
    "    if complexity == \"constant\":\n",
    "        return arr[0]  # O(1)\n",
    "    \n",
    "    elif complexity == \"linear\":\n",
    "        for item in arr:  # O(n)\n",
    "            print(item)\n",
    "    \n",
    "    elif complexity == \"quadratic\":\n",
    "        for i in arr:\n",
    "            for j in arr:  # O(n^2)\n",
    "                print(f\"({i}, {j})\")\n",
    "    \n",
    "    else:\n",
    "        return \"Unsupported complexity\"\n",
    "\n",
    "# Example usage:\n",
    "arr = [5, 10, 15, 20, 25]\n",
    "print(\"Constant:\")\n",
    "print(time_complexity_operation(arr, \"constant\"))\n",
    "\n",
    "print(\"\\nLinear:\")\n",
    "time_complexity_operation(arr, \"linear\")\n",
    "\n",
    "print(\"\\nQuadratic:\")\n",
    "time_complexity_operation(arr, \"quadratic\")\n"
   ]
  }
 ],
 "metadata": {
  "kernelspec": {
   "display_name": "venv",
   "language": "python",
   "name": "python3"
  },
  "language_info": {
   "codemirror_mode": {
    "name": "ipython",
    "version": 3
   },
   "file_extension": ".py",
   "mimetype": "text/x-python",
   "name": "python",
   "nbconvert_exporter": "python",
   "pygments_lexer": "ipython3",
   "version": "3.12.3"
  }
 },
 "nbformat": 4,
 "nbformat_minor": 5
}
