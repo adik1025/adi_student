{
 "cells": [
  {
   "cell_type": "code",
   "execution_count": null,
   "id": "55630f36",
   "metadata": {
    "vscode": {
     "languageId": "yaml"
    }
   },
   "outputs": [],
   "source": [
    "---\n",
    "layout: post\n",
    "title: Binary Search\n",
    "description: Team Teach Lesson HW\n",
    "permalink: /binarysearch\n",
    "comments: false\n",
    "search_exclude: false\n",
    "---"
   ]
  },
  {
   "cell_type": "markdown",
   "id": "dc395ad7",
   "metadata": {},
   "source": [
    "# Popcorn Hack #1\n",
    "\n",
    "The answer is C, because in order for binary search to work as intended it needs to be looping through a sorted list. If it is not a sorted list, it wouldn't be able to find the correct answer because it can't \"slice\" the list into subsections."
   ]
  },
  {
   "cell_type": "markdown",
   "id": "6d3f84ae",
   "metadata": {},
   "source": [
    "# Popcorn Hack 2\n",
    "\n",
    "The answer is B, because a sorted list is needed to successfully run a binary search. If it is not sorted, it will not be binary searched on."
   ]
  },
  {
   "cell_type": "markdown",
   "id": "98f8ef08",
   "metadata": {},
   "source": [
    "# Popcorn Hack 3"
   ]
  },
  {
   "cell_type": "code",
   "execution_count": null,
   "id": "9fc4f485",
   "metadata": {},
   "outputs": [
    {
     "data": {
      "text/plain": [
       "5"
      ]
     },
     "execution_count": 7,
     "metadata": {},
     "output_type": "execute_result"
    }
   ],
   "source": [
    "# Define a list of string elements\n",
    "l = [\"a\", \"b\", \"c\", \"d\", \"e\", \"f\", \"g\"]\n",
    "\n",
    "def binarySearch(lst, target):\n",
    "    # This function performs a binary search on 'lst'\n",
    "    # 'lst' is a list of sorted elements (we assume it's sorted in ascending order)\n",
    "    # 'target' is the value we're looking for in 'lst'\n",
    "    \n",
    "    # Initialize the 'low' pointer to the start of the list (index 0)\n",
    "    low = 0\n",
    "    \n",
    "    # Initialize the 'high' pointer to the end of the list (last index)\n",
    "    high = len(lst) - 1\n",
    "    \n",
    "    # Continue searching as long as low <= high\n",
    "    while low <= high:\n",
    "        # Calculate the midpoint index between low and high\n",
    "        # // ensures integer division\n",
    "        mid = (low + high) // 2\n",
    "        \n",
    "        # Check if the element at the midpoint is our target\n",
    "        if lst[mid] == target:\n",
    "            # If it matches, return the midpoint index\n",
    "            return mid\n",
    "        elif lst[mid] < target:\n",
    "            # If the midpoint value is less than the target,\n",
    "            # move the 'low' pointer to one past the midpoint\n",
    "            # to search the right half of the list\n",
    "            low = mid + 1\n",
    "        else:\n",
    "            # Otherwise, if the midpoint value is greater than the target,\n",
    "            # move the 'high' pointer to one less than the midpoint\n",
    "            # to search the left half of the list\n",
    "            high = mid - 1\n",
    "    \n",
    "    # If we exit the loop, the target isn't in the list\n",
    "    return -1\n",
    "\n",
    "# Call the binarySearch function and store the result\n",
    "# We are searching for the string \"f\" in our list\n",
    "result_index = binarySearch(l, \"f\")\n",
    "\n",
    "# Print the result index to verify the function works as expected\n",
    "print(\"Index of 'f':\", result_index)\n"
   ]
  },
  {
   "cell_type": "code",
   "execution_count": null,
   "id": "93714cc9",
   "metadata": {},
   "outputs": [
    {
     "name": "stdout",
     "output_type": "stream",
     "text": [
      "First few rows of sorted data:\n",
      "        Product  Price\n",
      "5        Eraser   0.50\n",
      "14  Paper Clips   0.89\n",
      "2        Pencil   0.99\n",
      "9    Glue Stick   1.25\n",
      "1           Pen   1.50\n",
      "Original row count: 15\n",
      "Cleaned row count: 15\n",
      "Price 1.25 found at index 3.\n",
      "Price 6.49 found at index 12.\n",
      "Price 10.0 not found.\n"
     ]
    }
   ],
   "source": [
    "import pandas as pd\n",
    "\n",
    "# Load the dataset\n",
    "data = pd.read_csv(\"school_supplies.csv\")\n",
    "\n",
    "# Drop rows with missing values\n",
    "data_cleaned = data.dropna()\n",
    "\n",
    "# Sort the data by 'Price'\n",
    "data_sorted = data_cleaned.sort_values(by=\"Price\")\n",
    "\n",
    "# Extract sorted prices as a list\n",
    "price_list = data_sorted[\"Price\"].tolist()\n",
    "\n",
    "# Preview the sorted data\n",
    "print(\"First few rows of sorted data:\")\n",
    "print(data_sorted.head())\n",
    "print(\"Original row count:\", len(data))\n",
    "print(\"Cleaned row count:\", len(data_cleaned))\n",
    "\n",
    "# Binary search function\n",
    "def binary_search(sorted_list, target):\n",
    "    left = 0\n",
    "    right = len(sorted_list) - 1\n",
    "\n",
    "    while left <= right:\n",
    "        mid = (left + right) // 2\n",
    "        if sorted_list[mid] == target:\n",
    "            return mid  # Target found, return index\n",
    "        elif sorted_list[mid] < target:\n",
    "            left = mid + 1  # Search in the right half\n",
    "        else:\n",
    "            right = mid - 1  # Search in the left half\n",
    "\n",
    "    return -1  # Target not found\n",
    "\n",
    "# Prices to search for\n",
    "prices_to_search = [1.25, 6.49, 10.00]\n",
    "\n",
    "# Search for each price and print results\n",
    "for price in prices_to_search:\n",
    "    result = binary_search(price_list, price)\n",
    "    if result != -1:\n",
    "        print(f\"Price {price} found at index {result}.\")\n",
    "    else:\n",
    "        print(f\"Price {price} not found.\")\n"
   ]
  },
  {
   "cell_type": "markdown",
   "id": "fa76873a",
   "metadata": {},
   "source": [
    "Below is a detailed explanation of how the updated code works:\n",
    "\n",
    "1. **Data Preparation**  \n",
    "   The dataset, represented as a pandas DataFrame (`data`), contains two columns: `Product` and `Price`. It includes 15 rows, each representing a school supply item and its corresponding price.  \n",
    "   - The `data_cleaned` variable holds the same dataset after removing any rows with missing values. In this case, no rows were dropped since all entries are complete.  \n",
    "   - The `data_sorted` variable contains the dataset sorted by the `Price` column in ascending order. This ensures that the binary search algorithm can operate correctly, as it requires a sorted list.\n",
    "\n",
    "2. **Extracting Prices**  \n",
    "   From the sorted DataFrame (`data_sorted`), the `Price` column is extracted and converted into a Python list (`price_list`). This list contains the prices in ascending order:  \n",
    "   `[0.5, 0.89, 0.99, 1.25, 1.5, 1.75, 1.99, 2.25, 2.5, 2.99, 3.99, 4.99, 6.49, 15.75, 25.0]`.  \n",
    "   This list serves as the input for the binary search function.\n",
    "\n",
    "3. **Binary Search Algorithm**  \n",
    "   The binary search function (`binary_search`) is implemented to efficiently locate a target value within a sorted list. Here's how it works:  \n",
    "   - **Initialization**: Two pointers, `left` and `right`, are set to the start and end of the list, respectively.  \n",
    "   - **Midpoint Calculation**: The midpoint index (`mid`) is calculated as the average of `left` and `right` (using integer division).  \n",
    "   - **Comparison**: The value at the midpoint is compared to the target:  \n",
    "     - If it matches the target, the function returns the index (`mid`).  \n",
    "     - If the midpoint value is less than the target, the search range is narrowed to the right half by updating `left`.  \n",
    "     - If the midpoint value is greater than the target, the search range is narrowed to the left half by updating `right`.  \n",
    "   - **Termination**: The loop continues until `left` exceeds `right`. If the target is not found, the function returns `-1`.\n",
    "\n",
    "4. **Testing the Function**  \n",
    "   The code tests the binary search function with a list of target prices (`prices_to_search`): `[1.25, 6.49, 10.0]`.  \n",
    "   - For each target price, the function is called with `price_list` and the target as inputs.  \n",
    "   - The result is stored in the variable `result`. If the target is found, its index is printed. Otherwise, a message indicates that the target was not found.  \n",
    "   - For example:  \n",
    "     - `1.25` is found at index `3`.  \n",
    "     - `6.49` is found at index `12`.  \n",
    "     - `10.0` is not found, so the function returns `-1`.\n",
    "\n",
    "5. **Output and Insights**  \n",
    "   The output provides a clear demonstration of the binary search algorithm's efficiency and accuracy. It shows how the algorithm quickly narrows down the search range to locate the target values or determine their absence. This approach is significantly faster than a linear search, especially for larger datasets.\n",
    "\n",
    "By combining data cleaning, sorting, and binary search, the code provides a robust workflow for efficiently searching through a dataset of school supplies and their prices."
   ]
  }
 ],
 "metadata": {
  "kernelspec": {
   "display_name": "venv",
   "language": "python",
   "name": "python3"
  },
  "language_info": {
   "codemirror_mode": {
    "name": "ipython",
    "version": 3
   },
   "file_extension": ".py",
   "mimetype": "text/x-python",
   "name": "python",
   "nbconvert_exporter": "python",
   "pygments_lexer": "ipython3",
   "version": "3.10.12"
  }
 },
 "nbformat": 4,
 "nbformat_minor": 5
}
