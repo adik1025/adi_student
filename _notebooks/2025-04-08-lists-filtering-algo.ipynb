{
 "cells": [
  {
   "cell_type": "code",
   "execution_count": null,
   "id": "01c21c03",
   "metadata": {
    "vscode": {
     "languageId": "yaml"
    }
   },
   "outputs": [],
   "source": [
    "---\n",
    "layout: post\n",
    "title: Lists and Filtering Algorithms\n",
    "description: Team Teach Lesson HW\n",
    "permalink: /list\n",
    "comments: false\n",
    "search_exclude: false\n",
    "---"
   ]
  },
  {
   "cell_type": "code",
   "execution_count": 1,
   "id": "c4860e45",
   "metadata": {},
   "outputs": [
    {
     "name": "stdout",
     "output_type": "stream",
     "text": [
      "['cinderella', \"ahmad's adventures\", 'invincible', 'cloudychancemeatball', 'pennywise', \"arhaan's adventures\"]\n"
     ]
    }
   ],
   "source": [
    "l = [\"cinderella\", \"minions\", \"invincible\", \"cloudychancemeatball\", \"pennywise\"]\n",
    "\n",
    "l[1] = \"ahmad's adventures\"\n",
    "\n",
    "l.append(\"arhaan's adventures\")\n",
    "\n",
    "print(l)"
   ]
  },
  {
   "cell_type": "code",
   "execution_count": 2,
   "id": "aa7c1614",
   "metadata": {},
   "outputs": [
    {
     "name": "stdout",
     "output_type": "stream",
     "text": [
      "[20, 34, 18, 21, 19]\n"
     ]
    }
   ],
   "source": [
    "ages = [15, 20, 34, 16, 18, 21, 14, 19]\n",
    "out = []\n",
    "for a in ages:\n",
    "    if a >= 18:\n",
    "        out.append(a)\n",
    "        \n",
    "print(out)"
   ]
  }
 ],
 "metadata": {
  "kernelspec": {
   "display_name": "venv",
   "language": "python",
   "name": "python3"
  },
  "language_info": {
   "codemirror_mode": {
    "name": "ipython",
    "version": 3
   },
   "file_extension": ".py",
   "mimetype": "text/x-python",
   "name": "python",
   "nbconvert_exporter": "python",
   "pygments_lexer": "ipython3",
   "version": "3.10.12"
  }
 },
 "nbformat": 4,
 "nbformat_minor": 5
}
