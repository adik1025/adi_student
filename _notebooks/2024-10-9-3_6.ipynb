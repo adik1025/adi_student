{
 "cells": [
  {
   "cell_type": "raw",
   "metadata": {
    "vscode": {
     "languageId": "raw"
    }
   },
   "source": [
    "---\n",
    "layout: post\n",
    "title: 3.6 and 3.7 Homework Hacks\n",
    "description: Homework Hacks for 3.6 and 3.7\n",
    "permalink: /homework-hacks/\n",
    "comments: false\n",
    "---"
   ]
  },
  {
   "cell_type": "markdown",
   "metadata": {},
   "source": [
    "# 3.6 Hacks"
   ]
  },
  {
   "cell_type": "markdown",
   "metadata": {
    "vscode": {
     "languageId": "raw"
    }
   },
   "source": [
    "### Hack 1:"
   ]
  },
  {
   "cell_type": "code",
   "execution_count": 5,
   "metadata": {},
   "outputs": [
    {
     "name": "stdout",
     "output_type": "stream",
     "text": [
      "The strings are different\n"
     ]
    }
   ],
   "source": [
    "str1 = \"hello\"\n",
    "str2 = \"bye\" #define the strings using the assignment operator\n",
    "\n",
    "if str1 == str2: #if the strings are the exact same\n",
    "    print(\"The strings are equal\")\n",
    "else: # if the strings are not the exact same (different)\n",
    "    print(\"The strings are different\")"
   ]
  },
  {
   "cell_type": "markdown",
   "metadata": {},
   "source": [
    "### Hack 2:"
   ]
  },
  {
   "cell_type": "code",
   "execution_count": 6,
   "metadata": {},
   "outputs": [
    {
     "name": "stdout",
     "output_type": "stream",
     "text": [
      "We are the same length!\n"
     ]
    }
   ],
   "source": [
    "str1 = \"monday\"\n",
    "str2 = \"sunday\" #define the strings\n",
    "\n",
    "if str1 == str2: #if the strings are the exact same\n",
    "    print(\"We are the same\") #print statements to give output\n",
    "elif len(str1) == len(str2): #if the lengths of the strings are the same\n",
    "    print(\"We are the same length!\") #print statement to give output\n",
    "else: # if none of the above conditions are met\n",
    "    print(\"We are not that similar :( \") #print statement to give output"
   ]
  },
  {
   "cell_type": "markdown",
   "metadata": {},
   "source": [
    "### Hack 3:"
   ]
  },
  {
   "cell_type": "code",
   "execution_count": 7,
   "metadata": {},
   "outputs": [
    {
     "name": "stdout",
     "output_type": "stream",
     "text": [
      "You entered the wrong number\n"
     ]
    }
   ],
   "source": [
    "for i in range(1, 11): #iterate through the numbers 1-10\n",
    "    var = input(\"Enter the number \" + str(i) + \" : \") #ask the user to input a number\n",
    "    if var == str(i):\n",
    "        continue #go to next iteration\n",
    "    else:\n",
    "        print(\"You entered the wrong number\") #print statement to give output\n",
    "        break\n",
    "    print(\"You entered all the numbers correctly!\") #print statement to give output"
   ]
  },
  {
   "cell_type": "markdown",
   "metadata": {},
   "source": [
    "# 3.7"
   ]
  },
  {
   "cell_type": "markdown",
   "metadata": {},
   "source": [
    "### Hack 1:"
   ]
  },
  {
   "cell_type": "code",
   "execution_count": 8,
   "metadata": {},
   "outputs": [
    {
     "name": "stdout",
     "output_type": "stream",
     "text": [
      "(2000, 'is a leap year.')\n",
      "(2001, 'is not a leap year.')\n"
     ]
    }
   ],
   "source": [
    "def leapyear(year):\n",
    "    if year % 4 == 0:\n",
    "        if year % 100 == 0:\n",
    "            if year % 400 == 0:\n",
    "                return year, \"is a leap year.\"\n",
    "            else:\n",
    "                return year, \"is not a leap year.\"\n",
    "        else:\n",
    "            return year, \"is a leap year.\"\n",
    "    else:\n",
    "        return year, \"is not a leap year.\"\n",
    "        \n",
    "print(leapyear(2000)) #call the function with the year 2000\n",
    "print(leapyear(2001)) #call the function with the year 2004"
   ]
  },
  {
   "cell_type": "markdown",
   "metadata": {},
   "source": [
    "### Extra Credit: Morse Code Encoder"
   ]
  },
  {
   "cell_type": "code",
   "execution_count": null,
   "metadata": {},
   "outputs": [],
   "source": [
    "char_to_dots = {\n",
    "  'A': '.-', 'B': '-...', 'C': '-.-.', 'D': '-..', 'E': '.', 'F': '..-.',\n",
    "  'G': '--.', 'H': '....', 'I': '..', 'J': '.---', 'K': '-.-', 'L': '.-..',\n",
    "  'M': '--', 'N': '-.', 'O': '---', 'P': '.--.', 'Q': '--.-', 'R': '.-.',\n",
    "  'S': '...', 'T': '-', 'U': '..-', 'V': '...-', 'W': '.--', 'X': '-..-',\n",
    "  'Y': '-.--', 'Z': '--..', ' ': ' ', '0': '-----',\n",
    "  '1': '.----', '2': '..---', '3': '...--', '4': '....-', '5': '.....',\n",
    "  '6': '-....', '7': '--...', '8': '---..', '9': '----.',\n",
    "  '&': '.-...', \"'\": '.----.', '@': '.--.-.', ')': '-.--.-', '(': '-.--.',\n",
    "  ':': '---...', ',': '--..--', '=': '-...-', '!': '-.-.--', '.': '.-.-.-',\n",
    "  '-': '-....-', '+': '.-.-.', '\"': '.-..-.', '?': '..--..', '/': '-..-.'\n",
    "}\n",
    "def encode_morse(message):\n",
    "    if len(message) == 0:\n",
    "        return \"Message is too short\"\n",
    "\tresult=\"\"\n",
    "\tfor i in message.upper():\n",
    "\t\tresult += char_to_dots[i]+\" \"\n",
    "\treturn result[0:-1]\n",
    "\n",
    "\n",
    "encode_morse(\"Howdy\") #call the function with the string \"Howdy\""
   ]
  }
 ],
 "metadata": {
  "kernelspec": {
   "display_name": "venv",
   "language": "python",
   "name": "python3"
  },
  "language_info": {
   "codemirror_mode": {
    "name": "ipython",
    "version": 3
   },
   "file_extension": ".py",
   "mimetype": "text/x-python",
   "name": "python",
   "nbconvert_exporter": "python",
   "pygments_lexer": "ipython3",
   "version": "3.10.12"
  }
 },
 "nbformat": 4,
 "nbformat_minor": 2
}
