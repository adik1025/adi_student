{
 "cells": [
  {
   "cell_type": "raw",
   "metadata": {
    "vscode": {
     "languageId": "raw"
    }
   },
   "source": [
    "---\n",
    "layout: post\n",
    "title: Popcorn Hack\n",
    "description: Home Page\n",
    "permalink: /posts/pop\n",
    "comments: false\n",
    "---"
   ]
  },
  {
   "cell_type": "markdown",
   "metadata": {},
   "source": [
    "# Beneficial Effect: Increased opportunity for education\n",
    "\n",
    " - Technology allows students to continuously remain educated, even when away from the classroom. \n",
    " - There are also several online courses and sites that are free to use (or paid) that allow students to learn in areas where there not be a physical classroom. Some examples include Khan Academy and YouTube. \n",
    " - Students can continue what they learned in the physical classrooms online, using apps such as Canvas.\n",
    "\n",
    " # Harmful Effect: Fake News\n",
    "\n",
    "  - Social media apps result in misinformation being spread easily, and it may cause issues in major political interactions, such as elections.\n",
    "  - We can use responsible programming to reduce the likelihood of spreading Fake News by limiting the number of views per post and taking down posts that are factually proven to be incorrect.\n",
    "  - Fake news may also make a negative impact on people and their perception of various topics, for example health. Influencers can make bold claims for a certain product due to sponsorships, and may appear to be a reputable source. However, they may not be the best source for this information."
   ]
  }
 ],
 "metadata": {
  "language_info": {
   "name": "python"
  }
 },
 "nbformat": 4,
 "nbformat_minor": 2
}
