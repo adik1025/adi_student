{
 "cells": [
  {
   "cell_type": "raw",
   "metadata": {
    "vscode": {
     "languageId": "raw"
    }
   },
   "source": [
    "---\n",
    "layout: post\n",
    "title: Crowdsourcing\n",
    "description: Home Page\n",
    "permalink: /crowd\n",
    "comments: false\n",
    "search_exclude: false\n",
    "---"
   ]
  },
  {
   "cell_type": "markdown",
   "metadata": {},
   "source": [
    "# Mango Rating\n",
    "\n",
    "10!!!"
   ]
  },
  {
   "cell_type": "markdown",
   "metadata": {},
   "source": [
    "# Popcorn Hack 3: Real World Crowdsourcing\n",
    "\n",
    "An example of crowdsourcing in Minecraft is the Minecraft Marketplace. The platform allows players and creators to design and share custom content such as skins, maps, and mods. This content is then made available to the global Minecraft community, often for purchase. By enabling creators to contribute their work, Minecraft leverages crowdsourcing to expand its ecosystem and provide diverse, user-generated content for players worldwide."
   ]
  },
  {
   "cell_type": "markdown",
   "metadata": {},
   "source": [
    "<iframe style=\"border-radius:12px\" src=\"https://open.spotify.com/embed/track/6dOtVTDdiauQNBQEDOtlAB?utm_source=generator\" width=\"100%\" height=\"352\" frameBorder=\"0\" allowfullscreen=\"\" allow=\"autoplay; clipboard-write; encrypted-media; fullscreen; picture-in-picture\" loading=\"lazy\"></iframe>"
   ]
  },
  {
   "cell_type": "markdown",
   "metadata": {},
   "source": [
    "<iframe style=\"border-radius:12px\" src=\"https://open.spotify.com/embed/track/3be9ACTxtcL6Zm4vJRUiPG?utm_source=generator\" width=\"100%\" height=\"352\" frameBorder=\"0\" allowfullscreen=\"\" allow=\"autoplay; clipboard-write; encrypted-media; fullscreen; picture-in-picture\" loading=\"lazy\"></iframe>"
   ]
  },
  {
   "cell_type": "markdown",
   "metadata": {},
   "source": [
    "# Homework Hack #1  \n",
    "YouTube  \n",
    "\n",
    "YouTube's recommendation algorithm tends to generate biased results by frequently suggesting content similar to what users have previously watched. This can limit the variety of content users are exposed to and may disproportionately favor popular creators, amplifying their reach and influence.  \n",
    "\n",
    "The bias arises from an algorithm that prioritizes engagement and watch time, often catering to user preferences at the expense of promoting content diversity. Additionally, a lack of diverse training data may contribute to this issue.  \n",
    "\n",
    "YouTube could implement diversity-aware recommendations, allow users to apply content filters, and enhance accessibility features to ensure a more balanced exposure to varied perspectives.  \n",
    "\n"
   ]
  }
 ],
 "metadata": {
  "language_info": {
   "name": "python"
  }
 },
 "nbformat": 4,
 "nbformat_minor": 2
}
